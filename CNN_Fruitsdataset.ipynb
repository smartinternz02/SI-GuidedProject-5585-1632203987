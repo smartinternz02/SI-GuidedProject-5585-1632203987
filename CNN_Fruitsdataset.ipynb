{
  "nbformat": 4,
  "nbformat_minor": 0,
  "metadata": {
    "colab": {
      "name": "CNN_Fruitsdataset.ipynb",
      "provenance": []
    },
    "kernelspec": {
      "name": "python3",
      "display_name": "Python 3"
    },
    "language_info": {
      "name": "python"
    }
  },
  "cells": [
    {
      "cell_type": "code",
      "metadata": {
        "id": "88nGpHwwfUSi"
      },
      "source": [
        "from tensorflow.keras.models import Sequential\n",
        "from tensorflow.keras.layers import Dense\n",
        "from tensorflow.keras.layers import Convolution2D\n",
        "from tensorflow.keras.layers import MaxPooling2D\n",
        "from tensorflow.keras.layers import Flatten"
      ],
      "execution_count": 17,
      "outputs": []
    },
    {
      "cell_type": "code",
      "metadata": {
        "id": "gCOnPTXkfZQV"
      },
      "source": [
        "from keras.preprocessing.image import ImageDataGenerator"
      ],
      "execution_count": 18,
      "outputs": []
    },
    {
      "cell_type": "code",
      "metadata": {
        "id": "Y992_jcOfesN"
      },
      "source": [
        "train_datagen=ImageDataGenerator(rescale=1./255,shear_range=0.2,zoom_range=0.2,horizontal_flip=True)\n",
        "test_datagen=ImageDataGenerator(rescale=1./255)"
      ],
      "execution_count": 19,
      "outputs": []
    },
    {
      "cell_type": "code",
      "metadata": {
        "colab": {
          "base_uri": "https://localhost:8080/"
        },
        "id": "_GJN5HlUgGVu",
        "outputId": "fbd80748-4091-4472-e0d1-262bb0b784af"
      },
      "source": [
        "from google.colab import drive\n",
        "drive.mount('/content/drive')"
      ],
      "execution_count": 20,
      "outputs": [
        {
          "output_type": "stream",
          "name": "stdout",
          "text": [
            "Drive already mounted at /content/drive; to attempt to forcibly remount, call drive.mount(\"/content/drive\", force_remount=True).\n"
          ]
        }
      ]
    },
    {
      "cell_type": "code",
      "metadata": {
        "colab": {
          "base_uri": "https://localhost:8080/"
        },
        "id": "lx-8R1sGgXB3",
        "outputId": "3b98f419-1230-4265-f12c-89ea6d3c21b1"
      },
      "source": [
        "x_train=train_datagen.flow_from_directory(\"/content/drive/MyDrive/ML & DL COURSE/Fruits dataset/trainset\",target_size=(64,64),batch_size=32,class_mode=\"categorical\")\n",
        "x_test=test_datagen.flow_from_directory(\"/content/drive/MyDrive/ML & DL COURSE/Fruits dataset/testset\",target_size=(64,64),batch_size=32,class_mode=\"categorical\")"
      ],
      "execution_count": 21,
      "outputs": [
        {
          "output_type": "stream",
          "name": "stdout",
          "text": [
            "Found 4302 images belonging to 8 classes.\n",
            "Found 120 images belonging to 8 classes.\n"
          ]
        }
      ]
    },
    {
      "cell_type": "code",
      "metadata": {
        "colab": {
          "base_uri": "https://localhost:8080/"
        },
        "id": "CHsCaLcpltqd",
        "outputId": "01f44178-61a5-4231-b70d-7fd6903a7444"
      },
      "source": [
        "print(x_train.class_indices)"
      ],
      "execution_count": 22,
      "outputs": [
        {
          "output_type": "stream",
          "name": "stdout",
          "text": [
            "{'Apple': 0, 'Banana': 1, 'Cherry': 2, 'Grape': 3, 'Guava': 4, 'Lemon': 5, 'Mango': 6, 'Papaya': 7}\n"
          ]
        }
      ]
    },
    {
      "cell_type": "code",
      "metadata": {
        "id": "rVVn9iJql47j"
      },
      "source": [
        "model=Sequential()"
      ],
      "execution_count": 23,
      "outputs": []
    },
    {
      "cell_type": "code",
      "metadata": {
        "id": "BW-vXL_Al-rh"
      },
      "source": [
        "model.add(Convolution2D(32,(3,3),input_shape=(64,64,3),activation=\"relu\"))"
      ],
      "execution_count": 24,
      "outputs": []
    },
    {
      "cell_type": "code",
      "metadata": {
        "id": "ygROcJvvmByp"
      },
      "source": [
        "model.add(MaxPooling2D(pool_size=(2,2)))"
      ],
      "execution_count": 25,
      "outputs": []
    },
    {
      "cell_type": "code",
      "metadata": {
        "id": "cwiNi574mFf_"
      },
      "source": [
        "model.add(Flatten())"
      ],
      "execution_count": 26,
      "outputs": []
    },
    {
      "cell_type": "code",
      "metadata": {
        "id": "VaQsovpvmKGc"
      },
      "source": [
        "model.add(Dense(units=128,activation=\"relu\"))"
      ],
      "execution_count": 27,
      "outputs": []
    },
    {
      "cell_type": "code",
      "metadata": {
        "id": "ooBM3-dnmMv2"
      },
      "source": [
        "model.add(Dense(units=8,activation=\"softmax\"))"
      ],
      "execution_count": 28,
      "outputs": []
    },
    {
      "cell_type": "code",
      "metadata": {
        "colab": {
          "base_uri": "https://localhost:8080/"
        },
        "id": "g_9ylN9PmzC6",
        "outputId": "78b64fab-9107-45bd-b4c2-cc19562c489e"
      },
      "source": [
        "model.summary()"
      ],
      "execution_count": 29,
      "outputs": [
        {
          "output_type": "stream",
          "name": "stdout",
          "text": [
            "Model: \"sequential_1\"\n",
            "_________________________________________________________________\n",
            "Layer (type)                 Output Shape              Param #   \n",
            "=================================================================\n",
            "conv2d_1 (Conv2D)            (None, 62, 62, 32)        896       \n",
            "_________________________________________________________________\n",
            "max_pooling2d_1 (MaxPooling2 (None, 31, 31, 32)        0         \n",
            "_________________________________________________________________\n",
            "flatten_1 (Flatten)          (None, 30752)             0         \n",
            "_________________________________________________________________\n",
            "dense_2 (Dense)              (None, 128)               3936384   \n",
            "_________________________________________________________________\n",
            "dense_3 (Dense)              (None, 8)                 1032      \n",
            "=================================================================\n",
            "Total params: 3,938,312\n",
            "Trainable params: 3,938,312\n",
            "Non-trainable params: 0\n",
            "_________________________________________________________________\n"
          ]
        }
      ]
    },
    {
      "cell_type": "code",
      "metadata": {
        "id": "AB-LbU0Gm8UQ"
      },
      "source": [
        "model.compile(loss=\"categorical_crossentropy\", optimizer=\"Adam\",metrics=[\"accuracy\"])"
      ],
      "execution_count": 30,
      "outputs": []
    },
    {
      "cell_type": "code",
      "metadata": {
        "id": "59hkn_HEnQcf"
      },
      "source": [
        "#steps_per_epoch=no_of_images_in_train_data/batch_size = 4302/32= 135\n",
        "#alidation_steps=no_of_images_in_test_data/batch_size = 120/32 = 4"
      ],
      "execution_count": 31,
      "outputs": []
    },
    {
      "cell_type": "code",
      "metadata": {
        "colab": {
          "base_uri": "https://localhost:8080/"
        },
        "id": "U4jzC_1MnlAX",
        "outputId": "42a11d8f-3145-46b3-f34b-9f4232513c4c"
      },
      "source": [
        "model.fit(x_train,steps_per_epoch=135,epochs=20,validation_data=x_test,validation_steps=4)"
      ],
      "execution_count": 32,
      "outputs": [
        {
          "output_type": "stream",
          "name": "stdout",
          "text": [
            "Epoch 1/20\n",
            "135/135 [==============================] - 951s 7s/step - loss: 0.2726 - accuracy: 0.9284 - val_loss: 0.0050 - val_accuracy: 1.0000\n",
            "Epoch 2/20\n",
            "135/135 [==============================] - 28s 206ms/step - loss: 0.0100 - accuracy: 0.9979 - val_loss: 0.0029 - val_accuracy: 1.0000\n",
            "Epoch 3/20\n",
            "135/135 [==============================] - 28s 205ms/step - loss: 0.0104 - accuracy: 0.9967 - val_loss: 4.7777e-04 - val_accuracy: 1.0000\n",
            "Epoch 4/20\n",
            "135/135 [==============================] - 27s 198ms/step - loss: 0.0078 - accuracy: 0.9974 - val_loss: 0.0099 - val_accuracy: 1.0000\n",
            "Epoch 5/20\n",
            "135/135 [==============================] - 28s 205ms/step - loss: 0.0012 - accuracy: 1.0000 - val_loss: 5.7526e-04 - val_accuracy: 1.0000\n",
            "Epoch 6/20\n",
            "135/135 [==============================] - 27s 197ms/step - loss: 0.0019 - accuracy: 0.9993 - val_loss: 6.1054e-04 - val_accuracy: 1.0000\n",
            "Epoch 7/20\n",
            "135/135 [==============================] - 28s 205ms/step - loss: 3.5542e-04 - accuracy: 1.0000 - val_loss: 1.3664e-04 - val_accuracy: 1.0000\n",
            "Epoch 8/20\n",
            "135/135 [==============================] - 29s 216ms/step - loss: 6.6022e-04 - accuracy: 1.0000 - val_loss: 9.3829e-05 - val_accuracy: 1.0000\n",
            "Epoch 9/20\n",
            "135/135 [==============================] - 30s 225ms/step - loss: 2.0789e-04 - accuracy: 1.0000 - val_loss: 6.1299e-05 - val_accuracy: 1.0000\n",
            "Epoch 10/20\n",
            "135/135 [==============================] - 30s 225ms/step - loss: 3.9391e-04 - accuracy: 1.0000 - val_loss: 4.5776e-05 - val_accuracy: 1.0000\n",
            "Epoch 11/20\n",
            "135/135 [==============================] - 37s 273ms/step - loss: 1.2294e-04 - accuracy: 1.0000 - val_loss: 3.8093e-05 - val_accuracy: 1.0000\n",
            "Epoch 12/20\n",
            "135/135 [==============================] - 31s 229ms/step - loss: 1.1540e-04 - accuracy: 1.0000 - val_loss: 3.2032e-05 - val_accuracy: 1.0000\n",
            "Epoch 13/20\n",
            "135/135 [==============================] - 28s 210ms/step - loss: 6.0882e-05 - accuracy: 1.0000 - val_loss: 2.2487e-05 - val_accuracy: 1.0000\n",
            "Epoch 14/20\n",
            "135/135 [==============================] - 31s 231ms/step - loss: 4.3730e-05 - accuracy: 1.0000 - val_loss: 2.7470e-05 - val_accuracy: 1.0000\n",
            "Epoch 15/20\n",
            "135/135 [==============================] - 37s 272ms/step - loss: 4.0491e-05 - accuracy: 1.0000 - val_loss: 2.6551e-05 - val_accuracy: 1.0000\n",
            "Epoch 16/20\n",
            "135/135 [==============================] - 30s 220ms/step - loss: 3.1484e-05 - accuracy: 1.0000 - val_loss: 1.6825e-05 - val_accuracy: 1.0000\n",
            "Epoch 17/20\n",
            "135/135 [==============================] - 29s 215ms/step - loss: 2.4193e-05 - accuracy: 1.0000 - val_loss: 1.4873e-05 - val_accuracy: 1.0000\n",
            "Epoch 18/20\n",
            "135/135 [==============================] - 29s 212ms/step - loss: 0.0013 - accuracy: 0.9995 - val_loss: 0.0286 - val_accuracy: 0.9833\n",
            "Epoch 19/20\n",
            "135/135 [==============================] - 29s 216ms/step - loss: 0.0533 - accuracy: 0.9884 - val_loss: 1.6662e-04 - val_accuracy: 1.0000\n",
            "Epoch 20/20\n",
            "135/135 [==============================] - 31s 233ms/step - loss: 2.3413e-04 - accuracy: 1.0000 - val_loss: 2.2646e-05 - val_accuracy: 1.0000\n"
          ]
        },
        {
          "output_type": "execute_result",
          "data": {
            "text/plain": [
              "<keras.callbacks.History at 0x7f9c665165d0>"
            ]
          },
          "metadata": {},
          "execution_count": 32
        }
      ]
    },
    {
      "cell_type": "code",
      "metadata": {
        "id": "6MTLwSQNvKHa"
      },
      "source": [
        "model.save(\"fruit.h5\")"
      ],
      "execution_count": 33,
      "outputs": []
    },
    {
      "cell_type": "code",
      "metadata": {
        "id": "wTJYUMLdvLeh"
      },
      "source": [
        "#Testing\n",
        "from tensorflow.keras.models import load_model\n",
        "from keras.preprocessing import image\n",
        "import numpy as np"
      ],
      "execution_count": 34,
      "outputs": []
    },
    {
      "cell_type": "code",
      "metadata": {
        "id": "Ds3TSmwxvTR0"
      },
      "source": [
        "model=load_model(\"fruit.h5\")"
      ],
      "execution_count": 35,
      "outputs": []
    },
    {
      "cell_type": "code",
      "metadata": {
        "id": "x7SjACASvIV1"
      },
      "source": [
        " img=image.load_img(\"/content/drive/MyDrive/ML & DL COURSE/Lemon.jfif\",target_size=(64,64))"
      ],
      "execution_count": 46,
      "outputs": []
    },
    {
      "cell_type": "code",
      "metadata": {
        "id": "NiOiGtDxxYV4"
      },
      "source": [
        "x=image.img_to_array(img)"
      ],
      "execution_count": 47,
      "outputs": []
    },
    {
      "cell_type": "code",
      "metadata": {
        "colab": {
          "base_uri": "https://localhost:8080/"
        },
        "id": "i7B0P4ZdxcQm",
        "outputId": "7dd14ab5-e375-4868-e79a-131587a9549a"
      },
      "source": [
        "x.shape"
      ],
      "execution_count": 48,
      "outputs": [
        {
          "output_type": "execute_result",
          "data": {
            "text/plain": [
              "(64, 64, 3)"
            ]
          },
          "metadata": {},
          "execution_count": 48
        }
      ]
    },
    {
      "cell_type": "code",
      "metadata": {
        "id": "pBkddbwmxe9K"
      },
      "source": [
        "x=np.expand_dims(x,axis=0)"
      ],
      "execution_count": 49,
      "outputs": []
    },
    {
      "cell_type": "code",
      "metadata": {
        "colab": {
          "base_uri": "https://localhost:8080/"
        },
        "id": "8vRDaQybxfrx",
        "outputId": "532b0a34-7685-488f-8155-782d0d02a0e1"
      },
      "source": [
        "x.shape"
      ],
      "execution_count": 50,
      "outputs": [
        {
          "output_type": "execute_result",
          "data": {
            "text/plain": [
              "(1, 64, 64, 3)"
            ]
          },
          "metadata": {},
          "execution_count": 50
        }
      ]
    },
    {
      "cell_type": "code",
      "metadata": {
        "id": "GwKHQGKUxoO8"
      },
      "source": [
        "y=model.predict(x)\n",
        "pred=np.argmax(y,axis=1)"
      ],
      "execution_count": 51,
      "outputs": []
    },
    {
      "cell_type": "code",
      "metadata": {
        "colab": {
          "base_uri": "https://localhost:8080/"
        },
        "id": "uZPXEnc1xq7r",
        "outputId": "df89198a-3dd3-4a9e-9dd1-80c9ba3bb203"
      },
      "source": [
        "y"
      ],
      "execution_count": 52,
      "outputs": [
        {
          "output_type": "execute_result",
          "data": {
            "text/plain": [
              "array([[0., 0., 0., 0., 0., 1., 0., 0.]], dtype=float32)"
            ]
          },
          "metadata": {},
          "execution_count": 52
        }
      ]
    },
    {
      "cell_type": "code",
      "metadata": {
        "colab": {
          "base_uri": "https://localhost:8080/"
        },
        "id": "XcAzkw2Bxrmy",
        "outputId": "8851246a-fca9-4deb-c105-8bb62b27d460"
      },
      "source": [
        "x_train.class_indices"
      ],
      "execution_count": 53,
      "outputs": [
        {
          "output_type": "execute_result",
          "data": {
            "text/plain": [
              "{'Apple': 0,\n",
              " 'Banana': 1,\n",
              " 'Cherry': 2,\n",
              " 'Grape': 3,\n",
              " 'Guava': 4,\n",
              " 'Lemon': 5,\n",
              " 'Mango': 6,\n",
              " 'Papaya': 7}"
            ]
          },
          "metadata": {},
          "execution_count": 53
        }
      ]
    },
    {
      "cell_type": "code",
      "metadata": {
        "id": "JWqyKimUx498"
      },
      "source": [
        "index=['Apple','Banana','Cherry','Grape','Guava','Lemon','Mango','Papaya']\n",
        "result=str(index[pred[0]])"
      ],
      "execution_count": 54,
      "outputs": []
    },
    {
      "cell_type": "code",
      "metadata": {
        "colab": {
          "base_uri": "https://localhost:8080/",
          "height": 35
        },
        "id": "9tvTUIB5x5Fr",
        "outputId": "467c1c21-70b2-4085-f7bd-ebff0d7a90c4"
      },
      "source": [
        "result"
      ],
      "execution_count": 55,
      "outputs": [
        {
          "output_type": "execute_result",
          "data": {
            "application/vnd.google.colaboratory.intrinsic+json": {
              "type": "string"
            },
            "text/plain": [
              "'Lemon'"
            ]
          },
          "metadata": {},
          "execution_count": 55
        }
      ]
    }
  ]
}