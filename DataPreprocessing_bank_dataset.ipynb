{
  "nbformat": 4,
  "nbformat_minor": 0,
  "metadata": {
    "colab": {
      "name": "DataPreprocessing_bank dataset.ipynb",
      "provenance": []
    },
    "kernelspec": {
      "name": "python3",
      "display_name": "Python 3"
    },
    "language_info": {
      "name": "python"
    }
  },
  "cells": [
    {
      "cell_type": "code",
      "metadata": {
        "colab": {
          "base_uri": "https://localhost:8080/"
        },
        "id": "38AW4sxytu29",
        "outputId": "d28e3e30-112b-46ce-dafb-6f8078313ca5"
      },
      "source": [
        "from google.colab import drive\n",
        "drive.mount('/content/drive')"
      ],
      "execution_count": 1,
      "outputs": [
        {
          "output_type": "stream",
          "name": "stdout",
          "text": [
            "Drive already mounted at /content/drive; to attempt to forcibly remount, call drive.mount(\"/content/drive\", force_remount=True).\n"
          ]
        }
      ]
    },
    {
      "cell_type": "code",
      "metadata": {
        "id": "ky9G6eWjwPf1"
      },
      "source": [
        "import numpy as np\n",
        "import pandas as pd"
      ],
      "execution_count": 2,
      "outputs": []
    },
    {
      "cell_type": "code",
      "metadata": {
        "id": "rXMK9s7Xw0gE"
      },
      "source": [
        "dataset = pd.read_csv('/content/drive/MyDrive/ML & DL COURSE/bank.csv')"
      ],
      "execution_count": 3,
      "outputs": []
    },
    {
      "cell_type": "code",
      "metadata": {
        "colab": {
          "base_uri": "https://localhost:8080/",
          "height": 363
        },
        "id": "UN-hhhJXxKlU",
        "outputId": "bb56ce2d-aa2a-40f9-eede-dd52ad28fd22"
      },
      "source": [
        "dataset.head(10)"
      ],
      "execution_count": 4,
      "outputs": [
        {
          "output_type": "execute_result",
          "data": {
            "text/html": [
              "<div>\n",
              "<style scoped>\n",
              "    .dataframe tbody tr th:only-of-type {\n",
              "        vertical-align: middle;\n",
              "    }\n",
              "\n",
              "    .dataframe tbody tr th {\n",
              "        vertical-align: top;\n",
              "    }\n",
              "\n",
              "    .dataframe thead th {\n",
              "        text-align: right;\n",
              "    }\n",
              "</style>\n",
              "<table border=\"1\" class=\"dataframe\">\n",
              "  <thead>\n",
              "    <tr style=\"text-align: right;\">\n",
              "      <th></th>\n",
              "      <th>age</th>\n",
              "      <th>job</th>\n",
              "      <th>marital</th>\n",
              "      <th>education</th>\n",
              "      <th>default</th>\n",
              "      <th>balance</th>\n",
              "      <th>housing</th>\n",
              "      <th>loan</th>\n",
              "      <th>contact</th>\n",
              "      <th>day</th>\n",
              "      <th>month</th>\n",
              "      <th>duration</th>\n",
              "      <th>campaign</th>\n",
              "      <th>pdays</th>\n",
              "      <th>previous</th>\n",
              "      <th>poutcome</th>\n",
              "      <th>deposit</th>\n",
              "    </tr>\n",
              "  </thead>\n",
              "  <tbody>\n",
              "    <tr>\n",
              "      <th>0</th>\n",
              "      <td>59</td>\n",
              "      <td>admin.</td>\n",
              "      <td>married</td>\n",
              "      <td>secondary</td>\n",
              "      <td>no</td>\n",
              "      <td>2343</td>\n",
              "      <td>yes</td>\n",
              "      <td>no</td>\n",
              "      <td>unknown</td>\n",
              "      <td>5</td>\n",
              "      <td>may</td>\n",
              "      <td>1042</td>\n",
              "      <td>1</td>\n",
              "      <td>-1</td>\n",
              "      <td>0</td>\n",
              "      <td>unknown</td>\n",
              "      <td>yes</td>\n",
              "    </tr>\n",
              "    <tr>\n",
              "      <th>1</th>\n",
              "      <td>56</td>\n",
              "      <td>admin.</td>\n",
              "      <td>married</td>\n",
              "      <td>secondary</td>\n",
              "      <td>no</td>\n",
              "      <td>45</td>\n",
              "      <td>no</td>\n",
              "      <td>no</td>\n",
              "      <td>unknown</td>\n",
              "      <td>5</td>\n",
              "      <td>may</td>\n",
              "      <td>1467</td>\n",
              "      <td>1</td>\n",
              "      <td>-1</td>\n",
              "      <td>0</td>\n",
              "      <td>unknown</td>\n",
              "      <td>yes</td>\n",
              "    </tr>\n",
              "    <tr>\n",
              "      <th>2</th>\n",
              "      <td>41</td>\n",
              "      <td>technician</td>\n",
              "      <td>married</td>\n",
              "      <td>secondary</td>\n",
              "      <td>no</td>\n",
              "      <td>1270</td>\n",
              "      <td>yes</td>\n",
              "      <td>no</td>\n",
              "      <td>unknown</td>\n",
              "      <td>5</td>\n",
              "      <td>may</td>\n",
              "      <td>1389</td>\n",
              "      <td>1</td>\n",
              "      <td>-1</td>\n",
              "      <td>0</td>\n",
              "      <td>unknown</td>\n",
              "      <td>yes</td>\n",
              "    </tr>\n",
              "    <tr>\n",
              "      <th>3</th>\n",
              "      <td>55</td>\n",
              "      <td>services</td>\n",
              "      <td>married</td>\n",
              "      <td>secondary</td>\n",
              "      <td>no</td>\n",
              "      <td>2476</td>\n",
              "      <td>yes</td>\n",
              "      <td>no</td>\n",
              "      <td>unknown</td>\n",
              "      <td>5</td>\n",
              "      <td>may</td>\n",
              "      <td>579</td>\n",
              "      <td>1</td>\n",
              "      <td>-1</td>\n",
              "      <td>0</td>\n",
              "      <td>unknown</td>\n",
              "      <td>yes</td>\n",
              "    </tr>\n",
              "    <tr>\n",
              "      <th>4</th>\n",
              "      <td>54</td>\n",
              "      <td>admin.</td>\n",
              "      <td>married</td>\n",
              "      <td>tertiary</td>\n",
              "      <td>no</td>\n",
              "      <td>184</td>\n",
              "      <td>no</td>\n",
              "      <td>no</td>\n",
              "      <td>unknown</td>\n",
              "      <td>5</td>\n",
              "      <td>may</td>\n",
              "      <td>673</td>\n",
              "      <td>2</td>\n",
              "      <td>-1</td>\n",
              "      <td>0</td>\n",
              "      <td>unknown</td>\n",
              "      <td>yes</td>\n",
              "    </tr>\n",
              "    <tr>\n",
              "      <th>5</th>\n",
              "      <td>42</td>\n",
              "      <td>management</td>\n",
              "      <td>single</td>\n",
              "      <td>tertiary</td>\n",
              "      <td>no</td>\n",
              "      <td>0</td>\n",
              "      <td>yes</td>\n",
              "      <td>yes</td>\n",
              "      <td>unknown</td>\n",
              "      <td>5</td>\n",
              "      <td>may</td>\n",
              "      <td>562</td>\n",
              "      <td>2</td>\n",
              "      <td>-1</td>\n",
              "      <td>0</td>\n",
              "      <td>unknown</td>\n",
              "      <td>yes</td>\n",
              "    </tr>\n",
              "    <tr>\n",
              "      <th>6</th>\n",
              "      <td>56</td>\n",
              "      <td>management</td>\n",
              "      <td>married</td>\n",
              "      <td>tertiary</td>\n",
              "      <td>no</td>\n",
              "      <td>830</td>\n",
              "      <td>yes</td>\n",
              "      <td>yes</td>\n",
              "      <td>unknown</td>\n",
              "      <td>6</td>\n",
              "      <td>may</td>\n",
              "      <td>1201</td>\n",
              "      <td>1</td>\n",
              "      <td>-1</td>\n",
              "      <td>0</td>\n",
              "      <td>unknown</td>\n",
              "      <td>yes</td>\n",
              "    </tr>\n",
              "    <tr>\n",
              "      <th>7</th>\n",
              "      <td>60</td>\n",
              "      <td>retired</td>\n",
              "      <td>divorced</td>\n",
              "      <td>secondary</td>\n",
              "      <td>no</td>\n",
              "      <td>545</td>\n",
              "      <td>yes</td>\n",
              "      <td>no</td>\n",
              "      <td>unknown</td>\n",
              "      <td>6</td>\n",
              "      <td>may</td>\n",
              "      <td>1030</td>\n",
              "      <td>1</td>\n",
              "      <td>-1</td>\n",
              "      <td>0</td>\n",
              "      <td>unknown</td>\n",
              "      <td>yes</td>\n",
              "    </tr>\n",
              "    <tr>\n",
              "      <th>8</th>\n",
              "      <td>37</td>\n",
              "      <td>technician</td>\n",
              "      <td>married</td>\n",
              "      <td>secondary</td>\n",
              "      <td>no</td>\n",
              "      <td>1</td>\n",
              "      <td>yes</td>\n",
              "      <td>no</td>\n",
              "      <td>unknown</td>\n",
              "      <td>6</td>\n",
              "      <td>may</td>\n",
              "      <td>608</td>\n",
              "      <td>1</td>\n",
              "      <td>-1</td>\n",
              "      <td>0</td>\n",
              "      <td>unknown</td>\n",
              "      <td>yes</td>\n",
              "    </tr>\n",
              "    <tr>\n",
              "      <th>9</th>\n",
              "      <td>28</td>\n",
              "      <td>services</td>\n",
              "      <td>single</td>\n",
              "      <td>secondary</td>\n",
              "      <td>no</td>\n",
              "      <td>5090</td>\n",
              "      <td>yes</td>\n",
              "      <td>no</td>\n",
              "      <td>unknown</td>\n",
              "      <td>6</td>\n",
              "      <td>may</td>\n",
              "      <td>1297</td>\n",
              "      <td>3</td>\n",
              "      <td>-1</td>\n",
              "      <td>0</td>\n",
              "      <td>unknown</td>\n",
              "      <td>yes</td>\n",
              "    </tr>\n",
              "  </tbody>\n",
              "</table>\n",
              "</div>"
            ],
            "text/plain": [
              "   age         job   marital  education  ... pdays  previous poutcome deposit\n",
              "0   59      admin.   married  secondary  ...    -1         0  unknown     yes\n",
              "1   56      admin.   married  secondary  ...    -1         0  unknown     yes\n",
              "2   41  technician   married  secondary  ...    -1         0  unknown     yes\n",
              "3   55    services   married  secondary  ...    -1         0  unknown     yes\n",
              "4   54      admin.   married   tertiary  ...    -1         0  unknown     yes\n",
              "5   42  management    single   tertiary  ...    -1         0  unknown     yes\n",
              "6   56  management   married   tertiary  ...    -1         0  unknown     yes\n",
              "7   60     retired  divorced  secondary  ...    -1         0  unknown     yes\n",
              "8   37  technician   married  secondary  ...    -1         0  unknown     yes\n",
              "9   28    services    single  secondary  ...    -1         0  unknown     yes\n",
              "\n",
              "[10 rows x 17 columns]"
            ]
          },
          "metadata": {},
          "execution_count": 4
        }
      ]
    },
    {
      "cell_type": "code",
      "metadata": {
        "colab": {
          "base_uri": "https://localhost:8080/"
        },
        "id": "PLtBINMgxM5X",
        "outputId": "b1b91fec-05dc-4469-d4fb-efdd01a336ba"
      },
      "source": [
        "dataset.isnull().any()"
      ],
      "execution_count": 5,
      "outputs": [
        {
          "output_type": "execute_result",
          "data": {
            "text/plain": [
              "age          False\n",
              "job          False\n",
              "marital      False\n",
              "education    False\n",
              "default      False\n",
              "balance      False\n",
              "housing      False\n",
              "loan         False\n",
              "contact      False\n",
              "day          False\n",
              "month        False\n",
              "duration     False\n",
              "campaign     False\n",
              "pdays        False\n",
              "previous     False\n",
              "poutcome     False\n",
              "deposit      False\n",
              "dtype: bool"
            ]
          },
          "metadata": {},
          "execution_count": 5
        }
      ]
    },
    {
      "cell_type": "code",
      "metadata": {
        "colab": {
          "base_uri": "https://localhost:8080/"
        },
        "id": "BShBoveBzFxg",
        "outputId": "8e40f064-8859-4543-ed56-034815141c08"
      },
      "source": [
        "dataset.info()"
      ],
      "execution_count": 6,
      "outputs": [
        {
          "output_type": "stream",
          "name": "stdout",
          "text": [
            "<class 'pandas.core.frame.DataFrame'>\n",
            "RangeIndex: 11162 entries, 0 to 11161\n",
            "Data columns (total 17 columns):\n",
            " #   Column     Non-Null Count  Dtype \n",
            "---  ------     --------------  ----- \n",
            " 0   age        11162 non-null  int64 \n",
            " 1   job        11162 non-null  object\n",
            " 2   marital    11162 non-null  object\n",
            " 3   education  11162 non-null  object\n",
            " 4   default    11162 non-null  object\n",
            " 5   balance    11162 non-null  int64 \n",
            " 6   housing    11162 non-null  object\n",
            " 7   loan       11162 non-null  object\n",
            " 8   contact    11162 non-null  object\n",
            " 9   day        11162 non-null  int64 \n",
            " 10  month      11162 non-null  object\n",
            " 11  duration   11162 non-null  int64 \n",
            " 12  campaign   11162 non-null  int64 \n",
            " 13  pdays      11162 non-null  int64 \n",
            " 14  previous   11162 non-null  int64 \n",
            " 15  poutcome   11162 non-null  object\n",
            " 16  deposit    11162 non-null  object\n",
            "dtypes: int64(7), object(10)\n",
            "memory usage: 1.4+ MB\n"
          ]
        }
      ]
    },
    {
      "cell_type": "code",
      "metadata": {
        "id": "62_ERC3E1L8M"
      },
      "source": [
        "x = dataset.iloc[:,0:16]\n",
        "y = dataset.iloc[:,16:17]"
      ],
      "execution_count": 7,
      "outputs": []
    },
    {
      "cell_type": "code",
      "metadata": {
        "colab": {
          "base_uri": "https://localhost:8080/",
          "height": 424
        },
        "id": "fV-HWDAm1_uH",
        "outputId": "63e82f9d-b1eb-4350-e87a-fc121e63d2c6"
      },
      "source": [
        "x"
      ],
      "execution_count": 8,
      "outputs": [
        {
          "output_type": "execute_result",
          "data": {
            "text/html": [
              "<div>\n",
              "<style scoped>\n",
              "    .dataframe tbody tr th:only-of-type {\n",
              "        vertical-align: middle;\n",
              "    }\n",
              "\n",
              "    .dataframe tbody tr th {\n",
              "        vertical-align: top;\n",
              "    }\n",
              "\n",
              "    .dataframe thead th {\n",
              "        text-align: right;\n",
              "    }\n",
              "</style>\n",
              "<table border=\"1\" class=\"dataframe\">\n",
              "  <thead>\n",
              "    <tr style=\"text-align: right;\">\n",
              "      <th></th>\n",
              "      <th>age</th>\n",
              "      <th>job</th>\n",
              "      <th>marital</th>\n",
              "      <th>education</th>\n",
              "      <th>default</th>\n",
              "      <th>balance</th>\n",
              "      <th>housing</th>\n",
              "      <th>loan</th>\n",
              "      <th>contact</th>\n",
              "      <th>day</th>\n",
              "      <th>month</th>\n",
              "      <th>duration</th>\n",
              "      <th>campaign</th>\n",
              "      <th>pdays</th>\n",
              "      <th>previous</th>\n",
              "      <th>poutcome</th>\n",
              "    </tr>\n",
              "  </thead>\n",
              "  <tbody>\n",
              "    <tr>\n",
              "      <th>0</th>\n",
              "      <td>59</td>\n",
              "      <td>admin.</td>\n",
              "      <td>married</td>\n",
              "      <td>secondary</td>\n",
              "      <td>no</td>\n",
              "      <td>2343</td>\n",
              "      <td>yes</td>\n",
              "      <td>no</td>\n",
              "      <td>unknown</td>\n",
              "      <td>5</td>\n",
              "      <td>may</td>\n",
              "      <td>1042</td>\n",
              "      <td>1</td>\n",
              "      <td>-1</td>\n",
              "      <td>0</td>\n",
              "      <td>unknown</td>\n",
              "    </tr>\n",
              "    <tr>\n",
              "      <th>1</th>\n",
              "      <td>56</td>\n",
              "      <td>admin.</td>\n",
              "      <td>married</td>\n",
              "      <td>secondary</td>\n",
              "      <td>no</td>\n",
              "      <td>45</td>\n",
              "      <td>no</td>\n",
              "      <td>no</td>\n",
              "      <td>unknown</td>\n",
              "      <td>5</td>\n",
              "      <td>may</td>\n",
              "      <td>1467</td>\n",
              "      <td>1</td>\n",
              "      <td>-1</td>\n",
              "      <td>0</td>\n",
              "      <td>unknown</td>\n",
              "    </tr>\n",
              "    <tr>\n",
              "      <th>2</th>\n",
              "      <td>41</td>\n",
              "      <td>technician</td>\n",
              "      <td>married</td>\n",
              "      <td>secondary</td>\n",
              "      <td>no</td>\n",
              "      <td>1270</td>\n",
              "      <td>yes</td>\n",
              "      <td>no</td>\n",
              "      <td>unknown</td>\n",
              "      <td>5</td>\n",
              "      <td>may</td>\n",
              "      <td>1389</td>\n",
              "      <td>1</td>\n",
              "      <td>-1</td>\n",
              "      <td>0</td>\n",
              "      <td>unknown</td>\n",
              "    </tr>\n",
              "    <tr>\n",
              "      <th>3</th>\n",
              "      <td>55</td>\n",
              "      <td>services</td>\n",
              "      <td>married</td>\n",
              "      <td>secondary</td>\n",
              "      <td>no</td>\n",
              "      <td>2476</td>\n",
              "      <td>yes</td>\n",
              "      <td>no</td>\n",
              "      <td>unknown</td>\n",
              "      <td>5</td>\n",
              "      <td>may</td>\n",
              "      <td>579</td>\n",
              "      <td>1</td>\n",
              "      <td>-1</td>\n",
              "      <td>0</td>\n",
              "      <td>unknown</td>\n",
              "    </tr>\n",
              "    <tr>\n",
              "      <th>4</th>\n",
              "      <td>54</td>\n",
              "      <td>admin.</td>\n",
              "      <td>married</td>\n",
              "      <td>tertiary</td>\n",
              "      <td>no</td>\n",
              "      <td>184</td>\n",
              "      <td>no</td>\n",
              "      <td>no</td>\n",
              "      <td>unknown</td>\n",
              "      <td>5</td>\n",
              "      <td>may</td>\n",
              "      <td>673</td>\n",
              "      <td>2</td>\n",
              "      <td>-1</td>\n",
              "      <td>0</td>\n",
              "      <td>unknown</td>\n",
              "    </tr>\n",
              "    <tr>\n",
              "      <th>...</th>\n",
              "      <td>...</td>\n",
              "      <td>...</td>\n",
              "      <td>...</td>\n",
              "      <td>...</td>\n",
              "      <td>...</td>\n",
              "      <td>...</td>\n",
              "      <td>...</td>\n",
              "      <td>...</td>\n",
              "      <td>...</td>\n",
              "      <td>...</td>\n",
              "      <td>...</td>\n",
              "      <td>...</td>\n",
              "      <td>...</td>\n",
              "      <td>...</td>\n",
              "      <td>...</td>\n",
              "      <td>...</td>\n",
              "    </tr>\n",
              "    <tr>\n",
              "      <th>11157</th>\n",
              "      <td>33</td>\n",
              "      <td>blue-collar</td>\n",
              "      <td>single</td>\n",
              "      <td>primary</td>\n",
              "      <td>no</td>\n",
              "      <td>1</td>\n",
              "      <td>yes</td>\n",
              "      <td>no</td>\n",
              "      <td>cellular</td>\n",
              "      <td>20</td>\n",
              "      <td>apr</td>\n",
              "      <td>257</td>\n",
              "      <td>1</td>\n",
              "      <td>-1</td>\n",
              "      <td>0</td>\n",
              "      <td>unknown</td>\n",
              "    </tr>\n",
              "    <tr>\n",
              "      <th>11158</th>\n",
              "      <td>39</td>\n",
              "      <td>services</td>\n",
              "      <td>married</td>\n",
              "      <td>secondary</td>\n",
              "      <td>no</td>\n",
              "      <td>733</td>\n",
              "      <td>no</td>\n",
              "      <td>no</td>\n",
              "      <td>unknown</td>\n",
              "      <td>16</td>\n",
              "      <td>jun</td>\n",
              "      <td>83</td>\n",
              "      <td>4</td>\n",
              "      <td>-1</td>\n",
              "      <td>0</td>\n",
              "      <td>unknown</td>\n",
              "    </tr>\n",
              "    <tr>\n",
              "      <th>11159</th>\n",
              "      <td>32</td>\n",
              "      <td>technician</td>\n",
              "      <td>single</td>\n",
              "      <td>secondary</td>\n",
              "      <td>no</td>\n",
              "      <td>29</td>\n",
              "      <td>no</td>\n",
              "      <td>no</td>\n",
              "      <td>cellular</td>\n",
              "      <td>19</td>\n",
              "      <td>aug</td>\n",
              "      <td>156</td>\n",
              "      <td>2</td>\n",
              "      <td>-1</td>\n",
              "      <td>0</td>\n",
              "      <td>unknown</td>\n",
              "    </tr>\n",
              "    <tr>\n",
              "      <th>11160</th>\n",
              "      <td>43</td>\n",
              "      <td>technician</td>\n",
              "      <td>married</td>\n",
              "      <td>secondary</td>\n",
              "      <td>no</td>\n",
              "      <td>0</td>\n",
              "      <td>no</td>\n",
              "      <td>yes</td>\n",
              "      <td>cellular</td>\n",
              "      <td>8</td>\n",
              "      <td>may</td>\n",
              "      <td>9</td>\n",
              "      <td>2</td>\n",
              "      <td>172</td>\n",
              "      <td>5</td>\n",
              "      <td>failure</td>\n",
              "    </tr>\n",
              "    <tr>\n",
              "      <th>11161</th>\n",
              "      <td>34</td>\n",
              "      <td>technician</td>\n",
              "      <td>married</td>\n",
              "      <td>secondary</td>\n",
              "      <td>no</td>\n",
              "      <td>0</td>\n",
              "      <td>no</td>\n",
              "      <td>no</td>\n",
              "      <td>cellular</td>\n",
              "      <td>9</td>\n",
              "      <td>jul</td>\n",
              "      <td>628</td>\n",
              "      <td>1</td>\n",
              "      <td>-1</td>\n",
              "      <td>0</td>\n",
              "      <td>unknown</td>\n",
              "    </tr>\n",
              "  </tbody>\n",
              "</table>\n",
              "<p>11162 rows × 16 columns</p>\n",
              "</div>"
            ],
            "text/plain": [
              "       age          job  marital  education  ... campaign  pdays previous poutcome\n",
              "0       59       admin.  married  secondary  ...        1     -1        0  unknown\n",
              "1       56       admin.  married  secondary  ...        1     -1        0  unknown\n",
              "2       41   technician  married  secondary  ...        1     -1        0  unknown\n",
              "3       55     services  married  secondary  ...        1     -1        0  unknown\n",
              "4       54       admin.  married   tertiary  ...        2     -1        0  unknown\n",
              "...    ...          ...      ...        ...  ...      ...    ...      ...      ...\n",
              "11157   33  blue-collar   single    primary  ...        1     -1        0  unknown\n",
              "11158   39     services  married  secondary  ...        4     -1        0  unknown\n",
              "11159   32   technician   single  secondary  ...        2     -1        0  unknown\n",
              "11160   43   technician  married  secondary  ...        2    172        5  failure\n",
              "11161   34   technician  married  secondary  ...        1     -1        0  unknown\n",
              "\n",
              "[11162 rows x 16 columns]"
            ]
          },
          "metadata": {},
          "execution_count": 8
        }
      ]
    },
    {
      "cell_type": "code",
      "metadata": {
        "colab": {
          "base_uri": "https://localhost:8080/",
          "height": 424
        },
        "id": "hzhMvez82BBF",
        "outputId": "92d75d1d-1bee-4e84-bb94-448a04803a3a"
      },
      "source": [
        "y"
      ],
      "execution_count": 9,
      "outputs": [
        {
          "output_type": "execute_result",
          "data": {
            "text/html": [
              "<div>\n",
              "<style scoped>\n",
              "    .dataframe tbody tr th:only-of-type {\n",
              "        vertical-align: middle;\n",
              "    }\n",
              "\n",
              "    .dataframe tbody tr th {\n",
              "        vertical-align: top;\n",
              "    }\n",
              "\n",
              "    .dataframe thead th {\n",
              "        text-align: right;\n",
              "    }\n",
              "</style>\n",
              "<table border=\"1\" class=\"dataframe\">\n",
              "  <thead>\n",
              "    <tr style=\"text-align: right;\">\n",
              "      <th></th>\n",
              "      <th>deposit</th>\n",
              "    </tr>\n",
              "  </thead>\n",
              "  <tbody>\n",
              "    <tr>\n",
              "      <th>0</th>\n",
              "      <td>yes</td>\n",
              "    </tr>\n",
              "    <tr>\n",
              "      <th>1</th>\n",
              "      <td>yes</td>\n",
              "    </tr>\n",
              "    <tr>\n",
              "      <th>2</th>\n",
              "      <td>yes</td>\n",
              "    </tr>\n",
              "    <tr>\n",
              "      <th>3</th>\n",
              "      <td>yes</td>\n",
              "    </tr>\n",
              "    <tr>\n",
              "      <th>4</th>\n",
              "      <td>yes</td>\n",
              "    </tr>\n",
              "    <tr>\n",
              "      <th>...</th>\n",
              "      <td>...</td>\n",
              "    </tr>\n",
              "    <tr>\n",
              "      <th>11157</th>\n",
              "      <td>no</td>\n",
              "    </tr>\n",
              "    <tr>\n",
              "      <th>11158</th>\n",
              "      <td>no</td>\n",
              "    </tr>\n",
              "    <tr>\n",
              "      <th>11159</th>\n",
              "      <td>no</td>\n",
              "    </tr>\n",
              "    <tr>\n",
              "      <th>11160</th>\n",
              "      <td>no</td>\n",
              "    </tr>\n",
              "    <tr>\n",
              "      <th>11161</th>\n",
              "      <td>no</td>\n",
              "    </tr>\n",
              "  </tbody>\n",
              "</table>\n",
              "<p>11162 rows × 1 columns</p>\n",
              "</div>"
            ],
            "text/plain": [
              "      deposit\n",
              "0         yes\n",
              "1         yes\n",
              "2         yes\n",
              "3         yes\n",
              "4         yes\n",
              "...       ...\n",
              "11157      no\n",
              "11158      no\n",
              "11159      no\n",
              "11160      no\n",
              "11161      no\n",
              "\n",
              "[11162 rows x 1 columns]"
            ]
          },
          "metadata": {},
          "execution_count": 9
        }
      ]
    },
    {
      "cell_type": "code",
      "metadata": {
        "colab": {
          "base_uri": "https://localhost:8080/"
        },
        "id": "Yg6y5hSzuwo0",
        "outputId": "a1ea3c0d-bdfd-4bbb-8169-33ad43ba0911"
      },
      "source": [
        "dataset[\"job\"].unique()"
      ],
      "execution_count": 10,
      "outputs": [
        {
          "output_type": "execute_result",
          "data": {
            "text/plain": [
              "array(['admin.', 'technician', 'services', 'management', 'retired',\n",
              "       'blue-collar', 'unemployed', 'entrepreneur', 'housemaid',\n",
              "       'unknown', 'self-employed', 'student'], dtype=object)"
            ]
          },
          "metadata": {},
          "execution_count": 10
        }
      ]
    },
    {
      "cell_type": "code",
      "metadata": {
        "colab": {
          "base_uri": "https://localhost:8080/"
        },
        "id": "e-CzoOnpu75r",
        "outputId": "8f036996-1252-4838-c338-137591e65739"
      },
      "source": [
        "dataset[\"marital\"].unique()"
      ],
      "execution_count": 11,
      "outputs": [
        {
          "output_type": "execute_result",
          "data": {
            "text/plain": [
              "array(['married', 'single', 'divorced'], dtype=object)"
            ]
          },
          "metadata": {},
          "execution_count": 11
        }
      ]
    },
    {
      "cell_type": "code",
      "metadata": {
        "id": "W2pyRCgZvDBH",
        "colab": {
          "base_uri": "https://localhost:8080/"
        },
        "outputId": "222a3da8-9a51-4465-df79-2ee2b49fbb33"
      },
      "source": [
        "dataset[\"education\"].unique()"
      ],
      "execution_count": 12,
      "outputs": [
        {
          "output_type": "execute_result",
          "data": {
            "text/plain": [
              "array(['secondary', 'tertiary', 'primary', 'unknown'], dtype=object)"
            ]
          },
          "metadata": {},
          "execution_count": 12
        }
      ]
    },
    {
      "cell_type": "code",
      "metadata": {
        "colab": {
          "base_uri": "https://localhost:8080/"
        },
        "id": "3rJPinwS2Dma",
        "outputId": "0847ddec-878c-49ad-d368-f357ac934cf7"
      },
      "source": [
        "print(type(x),type(y))"
      ],
      "execution_count": 13,
      "outputs": [
        {
          "output_type": "stream",
          "name": "stdout",
          "text": [
            "<class 'pandas.core.frame.DataFrame'> <class 'pandas.core.frame.DataFrame'>\n"
          ]
        }
      ]
    },
    {
      "cell_type": "code",
      "metadata": {
        "id": "9Phl39hn2IBz"
      },
      "source": [
        "x = x.values\n",
        "y = y.values"
      ],
      "execution_count": 14,
      "outputs": []
    },
    {
      "cell_type": "code",
      "metadata": {
        "colab": {
          "base_uri": "https://localhost:8080/"
        },
        "id": "Losha6G52hnp",
        "outputId": "fb993d5c-fe8c-42d2-f82b-d0b4f371136b"
      },
      "source": [
        "x"
      ],
      "execution_count": 15,
      "outputs": [
        {
          "output_type": "execute_result",
          "data": {
            "text/plain": [
              "array([[59, 'admin.', 'married', ..., -1, 0, 'unknown'],\n",
              "       [56, 'admin.', 'married', ..., -1, 0, 'unknown'],\n",
              "       [41, 'technician', 'married', ..., -1, 0, 'unknown'],\n",
              "       ...,\n",
              "       [32, 'technician', 'single', ..., -1, 0, 'unknown'],\n",
              "       [43, 'technician', 'married', ..., 172, 5, 'failure'],\n",
              "       [34, 'technician', 'married', ..., -1, 0, 'unknown']], dtype=object)"
            ]
          },
          "metadata": {},
          "execution_count": 15
        }
      ]
    },
    {
      "cell_type": "code",
      "metadata": {
        "colab": {
          "base_uri": "https://localhost:8080/"
        },
        "id": "A4b2q1V12itl",
        "outputId": "6788fe2b-2913-4c11-ba6e-9995de48c8a5"
      },
      "source": [
        "y"
      ],
      "execution_count": 16,
      "outputs": [
        {
          "output_type": "execute_result",
          "data": {
            "text/plain": [
              "array([['yes'],\n",
              "       ['yes'],\n",
              "       ['yes'],\n",
              "       ...,\n",
              "       ['no'],\n",
              "       ['no'],\n",
              "       ['no']], dtype=object)"
            ]
          },
          "metadata": {},
          "execution_count": 16
        }
      ]
    },
    {
      "cell_type": "markdown",
      "metadata": {
        "id": "c5LhwJR87ysr"
      },
      "source": [
        ""
      ]
    },
    {
      "cell_type": "code",
      "metadata": {
        "id": "HOU9VNiG5O7b"
      },
      "source": [
        "from sklearn.compose import ColumnTransformer # used to convert data to binary format\n",
        "from sklearn.preprocessing import OneHotEncoder\n"
      ],
      "execution_count": 17,
      "outputs": []
    },
    {
      "cell_type": "code",
      "metadata": {
        "id": "ZRErUvvQ5pS_"
      },
      "source": [
        "#ct = ColumnTransformer([(\"instance name for onehotencoding\",onehotencoderfunction,[column index numbers that are to be converted in to binary fotmat])],remainder = \"passthrough\")\n",
        "ct = ColumnTransformer([(\"one\",OneHotEncoder(),[1,2,3,4,6,7,8,10,15])],remainder = \"passthrough\")\n",
        "x = ct.fit_transform(x)\n"
      ],
      "execution_count": 18,
      "outputs": []
    },
    {
      "cell_type": "code",
      "metadata": {
        "colab": {
          "base_uri": "https://localhost:8080/"
        },
        "id": "G7gbF3OC7VNR",
        "outputId": "e4df7f5e-38df-473b-b310-40989d25b7f9"
      },
      "source": [
        "x.shape"
      ],
      "execution_count": 19,
      "outputs": [
        {
          "output_type": "execute_result",
          "data": {
            "text/plain": [
              "(11162, 51)"
            ]
          },
          "metadata": {},
          "execution_count": 19
        }
      ]
    },
    {
      "cell_type": "code",
      "metadata": {
        "colab": {
          "base_uri": "https://localhost:8080/"
        },
        "id": "fKryn_N27XTT",
        "outputId": "7d0558e3-39e0-4a3d-e971-f98b8f03b7bb"
      },
      "source": [
        "x[0:5]"
      ],
      "execution_count": 20,
      "outputs": [
        {
          "output_type": "execute_result",
          "data": {
            "text/plain": [
              "array([[1.0, 0.0, 0.0, 0.0, 0.0, 0.0, 0.0, 0.0, 0.0, 0.0, 0.0, 0.0, 0.0,\n",
              "        1.0, 0.0, 0.0, 1.0, 0.0, 0.0, 1.0, 0.0, 0.0, 1.0, 1.0, 0.0, 0.0,\n",
              "        0.0, 1.0, 0.0, 0.0, 0.0, 0.0, 0.0, 0.0, 0.0, 0.0, 1.0, 0.0, 0.0,\n",
              "        0.0, 0.0, 0.0, 0.0, 1.0, 59, 2343, 5, 1042, 1, -1, 0],\n",
              "       [1.0, 0.0, 0.0, 0.0, 0.0, 0.0, 0.0, 0.0, 0.0, 0.0, 0.0, 0.0, 0.0,\n",
              "        1.0, 0.0, 0.0, 1.0, 0.0, 0.0, 1.0, 0.0, 1.0, 0.0, 1.0, 0.0, 0.0,\n",
              "        0.0, 1.0, 0.0, 0.0, 0.0, 0.0, 0.0, 0.0, 0.0, 0.0, 1.0, 0.0, 0.0,\n",
              "        0.0, 0.0, 0.0, 0.0, 1.0, 56, 45, 5, 1467, 1, -1, 0],\n",
              "       [0.0, 0.0, 0.0, 0.0, 0.0, 0.0, 0.0, 0.0, 0.0, 1.0, 0.0, 0.0, 0.0,\n",
              "        1.0, 0.0, 0.0, 1.0, 0.0, 0.0, 1.0, 0.0, 0.0, 1.0, 1.0, 0.0, 0.0,\n",
              "        0.0, 1.0, 0.0, 0.0, 0.0, 0.0, 0.0, 0.0, 0.0, 0.0, 1.0, 0.0, 0.0,\n",
              "        0.0, 0.0, 0.0, 0.0, 1.0, 41, 1270, 5, 1389, 1, -1, 0],\n",
              "       [0.0, 0.0, 0.0, 0.0, 0.0, 0.0, 0.0, 1.0, 0.0, 0.0, 0.0, 0.0, 0.0,\n",
              "        1.0, 0.0, 0.0, 1.0, 0.0, 0.0, 1.0, 0.0, 0.0, 1.0, 1.0, 0.0, 0.0,\n",
              "        0.0, 1.0, 0.0, 0.0, 0.0, 0.0, 0.0, 0.0, 0.0, 0.0, 1.0, 0.0, 0.0,\n",
              "        0.0, 0.0, 0.0, 0.0, 1.0, 55, 2476, 5, 579, 1, -1, 0],\n",
              "       [1.0, 0.0, 0.0, 0.0, 0.0, 0.0, 0.0, 0.0, 0.0, 0.0, 0.0, 0.0, 0.0,\n",
              "        1.0, 0.0, 0.0, 0.0, 1.0, 0.0, 1.0, 0.0, 1.0, 0.0, 1.0, 0.0, 0.0,\n",
              "        0.0, 1.0, 0.0, 0.0, 0.0, 0.0, 0.0, 0.0, 0.0, 0.0, 1.0, 0.0, 0.0,\n",
              "        0.0, 0.0, 0.0, 0.0, 1.0, 54, 184, 5, 673, 2, -1, 0]], dtype=object)"
            ]
          },
          "metadata": {},
          "execution_count": 20
        }
      ]
    },
    {
      "cell_type": "code",
      "metadata": {
        "id": "UMzr-XozD2Bj"
      },
      "source": [
        "from sklearn.model_selection import train_test_split\n",
        "x_train,x_test,y_train,y_test = train_test_split(x,y,test_size = 0.2,random_state = 0)"
      ],
      "execution_count": 39,
      "outputs": []
    },
    {
      "cell_type": "code",
      "metadata": {
        "colab": {
          "base_uri": "https://localhost:8080/"
        },
        "id": "hair7DFgEK8X",
        "outputId": "b47b8d4b-ab69-49b0-ce47-be399e55cc41"
      },
      "source": [
        "x_train.shape"
      ],
      "execution_count": 40,
      "outputs": [
        {
          "output_type": "execute_result",
          "data": {
            "text/plain": [
              "(8929, 51)"
            ]
          },
          "metadata": {},
          "execution_count": 40
        }
      ]
    },
    {
      "cell_type": "code",
      "metadata": {
        "colab": {
          "base_uri": "https://localhost:8080/"
        },
        "id": "31vBJ2bBEPVx",
        "outputId": "8889fb05-f63e-4a38-fd40-e7bbdf2d6707"
      },
      "source": [
        "x_test.shape"
      ],
      "execution_count": 41,
      "outputs": [
        {
          "output_type": "execute_result",
          "data": {
            "text/plain": [
              "(2233, 51)"
            ]
          },
          "metadata": {},
          "execution_count": 41
        }
      ]
    },
    {
      "cell_type": "code",
      "metadata": {
        "colab": {
          "base_uri": "https://localhost:8080/"
        },
        "id": "cn30lN2QESX7",
        "outputId": "4c59054c-4ed0-4b83-876b-32ae30537039"
      },
      "source": [
        "y_train.shape"
      ],
      "execution_count": 42,
      "outputs": [
        {
          "output_type": "execute_result",
          "data": {
            "text/plain": [
              "(8929, 1)"
            ]
          },
          "metadata": {},
          "execution_count": 42
        }
      ]
    },
    {
      "cell_type": "code",
      "metadata": {
        "colab": {
          "base_uri": "https://localhost:8080/"
        },
        "id": "XmAxhREyEXDt",
        "outputId": "35b15ea2-bea0-4885-862d-bc3eb0387926"
      },
      "source": [
        "y_test.shape"
      ],
      "execution_count": 43,
      "outputs": [
        {
          "output_type": "execute_result",
          "data": {
            "text/plain": [
              "(2233, 1)"
            ]
          },
          "metadata": {},
          "execution_count": 43
        }
      ]
    },
    {
      "cell_type": "code",
      "metadata": {
        "id": "WiMiMdOfG5Hv"
      },
      "source": [
        "from sklearn.preprocessing import StandardScaler \n",
        "sc = StandardScaler()\n",
        "x_train = sc.fit_transform(x_train)\n",
        "x_test = sc.fit_transform(x_test)"
      ],
      "execution_count": 44,
      "outputs": []
    },
    {
      "cell_type": "code",
      "metadata": {
        "colab": {
          "base_uri": "https://localhost:8080/"
        },
        "id": "NbIYRX9MHYRz",
        "outputId": "2fbecf07-6ced-448a-8024-cd1e7182296e"
      },
      "source": [
        "x_train[0:5]"
      ],
      "execution_count": 47,
      "outputs": [
        {
          "output_type": "execute_result",
          "data": {
            "text/plain": [
              "array([[-0.37172192, -0.45760242, -0.17658264, -0.1589378 ,  1.8452729 ,\n",
              "        -0.27363591, -0.1931085 , -0.30435733, -0.17992689, -0.44212513,\n",
              "        -0.18025832, -0.08293772, -0.36485864,  0.86351031, -0.66975544,\n",
              "        -0.39346051,  1.01614555, -0.69993206, -0.21741017,  0.12621015,\n",
              "        -0.12621015, -1.05825117,  1.05825117,  0.39003722, -0.39003722,\n",
              "        -1.60273048, -0.27292594,  1.93439945, -0.30193478, -0.39913565,\n",
              "        -0.09686471, -0.27410848, -0.17488949, -0.39459853, -0.34910544,\n",
              "        -0.15930776,  1.70870313, -0.30215554, -0.1931085 , -0.16761389,\n",
              "        -0.35031555, -0.22657536, -0.32939951,  0.58661881,  0.64941897,\n",
              "        -0.44565283, -0.90504798, -0.2483547 , -0.56394809, -0.48428507,\n",
              "        -0.35888264],\n",
              "       [-0.37172192, -0.45760242, -0.17658264, -0.1589378 , -0.54192526,\n",
              "         3.65449114, -0.1931085 , -0.30435733, -0.17992689, -0.44212513,\n",
              "        -0.18025832, -0.08293772,  2.7407875 , -1.15806377, -0.66975544,\n",
              "        -0.39346051,  1.01614555, -0.69993206, -0.21741017,  0.12621015,\n",
              "        -0.12621015,  0.94495525, -0.94495525,  0.39003722, -0.39003722,\n",
              "         0.62393522, -0.27292594, -0.51695631, -0.30193478, -0.39913565,\n",
              "        -0.09686471,  3.64819063, -0.17488949, -0.39459853, -0.34910544,\n",
              "        -0.15930776, -0.58523917, -0.30215554, -0.1931085 , -0.16761389,\n",
              "        -0.35031555, -0.22657536, -0.32939951,  0.58661881,  1.48737591,\n",
              "        -0.31617229, -1.50003939, -0.31759131, -0.56394809, -0.48428507,\n",
              "        -0.35888264],\n",
              "       [-0.37172192,  2.18530314, -0.17658264, -0.1589378 , -0.54192526,\n",
              "        -0.27363591, -0.1931085 , -0.30435733, -0.17992689, -0.44212513,\n",
              "        -0.18025832, -0.08293772, -0.36485864,  0.86351031, -0.66975544,\n",
              "         2.54155111, -0.98411098, -0.69993206, -0.21741017,  0.12621015,\n",
              "        -0.12621015,  0.94495525, -0.94495525,  0.39003722, -0.39003722,\n",
              "         0.62393522, -0.27292594, -0.51695631, -0.30193478, -0.39913565,\n",
              "        -0.09686471, -0.27410848, -0.17488949, -0.39459853, -0.34910544,\n",
              "        -0.15930776, -0.58523917,  3.30955373, -0.1931085 , -0.16761389,\n",
              "        -0.35031555, -0.22657536, -0.32939951,  0.58661881, -0.69131213,\n",
              "        -0.41691446,  0.04693829,  1.76816153,  0.92827075, -0.48428507,\n",
              "        -0.35888264],\n",
              "       [-0.37172192, -0.45760242, -0.17658264, -0.1589378 , -0.54192526,\n",
              "        -0.27363591, -0.1931085 , -0.30435733, -0.17992689, -0.44212513,\n",
              "         5.54759414, -0.08293772, -0.36485864,  0.86351031, -0.66975544,\n",
              "        -0.39346051,  1.01614555, -0.69993206, -0.21741017,  0.12621015,\n",
              "        -0.12621015, -1.05825117,  1.05825117,  0.39003722, -0.39003722,\n",
              "         0.62393522, -0.27292594, -0.51695631, -0.30193478,  2.50541386,\n",
              "        -0.09686471, -0.27410848, -0.17488949, -0.39459853, -0.34910544,\n",
              "        -0.15930776, -0.58523917, -0.30215554, -0.1931085 , -0.16761389,\n",
              "        -0.35031555, -0.22657536,  3.03582726, -1.7046845 ,  1.40358022,\n",
              "        -0.26153782, -1.02404626, -0.43298566, -0.56394809,  0.43567719,\n",
              "         0.48684529],\n",
              "       [ 2.69018306, -0.45760242, -0.17658264, -0.1589378 , -0.54192526,\n",
              "        -0.27363591, -0.1931085 , -0.30435733, -0.17992689, -0.44212513,\n",
              "        -0.18025832, -0.08293772, -0.36485864,  0.86351031, -0.66975544,\n",
              "        -0.39346051,  1.01614555, -0.69993206, -0.21741017,  0.12621015,\n",
              "        -0.12621015, -1.05825117,  1.05825117,  0.39003722, -0.39003722,\n",
              "         0.62393522, -0.27292594, -0.51695631, -0.30193478, -0.39913565,\n",
              "        -0.09686471, -0.27410848, -0.17488949, -0.39459853, -0.34910544,\n",
              "        -0.15930776,  1.70870313, -0.30215554, -0.1931085 , -0.16761389,\n",
              "        -0.35031555,  4.41354255, -0.32939951, -1.7046845 , -0.69131213,\n",
              "        -0.13837341,  0.28493485,  0.17571953,  0.18216133,  2.96557339,\n",
              "         0.90970925]])"
            ]
          },
          "metadata": {},
          "execution_count": 47
        }
      ]
    },
    {
      "cell_type": "code",
      "metadata": {
        "colab": {
          "base_uri": "https://localhost:8080/"
        },
        "id": "IgWt8qsVHfqh",
        "outputId": "512fe67f-b94a-486a-ac2e-152da1f4052e"
      },
      "source": [
        "x_test[0:5]"
      ],
      "execution_count": 48,
      "outputs": [
        {
          "output_type": "execute_result",
          "data": {
            "text/plain": [
              "array([[-0.35506564, -0.46571851, -0.16329932, -0.15742303, -0.56407607,\n",
              "        -0.27405899, -0.19770672,  3.52871184, -0.19276269, -0.44058784,\n",
              "        -0.18770754, -0.06361417, -0.3502495 ,  0.89812822, -0.71329081,\n",
              "        -0.39622572, -0.97043245, -0.71329081,  4.77025357,  0.11268723,\n",
              "        -0.11268723, -1.04348843,  1.04348843,  0.37941391, -0.37941391,\n",
              "         0.61859723, -0.27311344, -0.5114508 , -0.29341011, -0.38786327,\n",
              "        -0.11063158, -0.27026248, -0.19150966, -0.4022569 , -0.35666298,\n",
              "        -0.15891043,  1.75776665, -0.31019338, -0.181218  , -0.18642533,\n",
              "         2.80376731, -0.21765422, -0.31106004, -1.74928557, -0.01351615,\n",
              "        -0.43308444, -0.57375418, -0.77542752, -0.51893725,  2.62409874,\n",
              "         0.62465525],\n",
              "       [-0.35506564, -0.46571851, -0.16329932, -0.15742303, -0.56407607,\n",
              "        -0.27405899, -0.19770672, -0.28338953, -0.19276269,  2.26969495,\n",
              "        -0.18770754, -0.06361417, -0.3502495 ,  0.89812822, -0.71329081,\n",
              "        -0.39622572,  1.03046843, -0.71329081, -0.20963246,  0.11268723,\n",
              "        -0.11268723,  0.958324  , -0.958324  , -2.63564399,  2.63564399,\n",
              "         0.61859723, -0.27311344, -0.5114508 , -0.29341011, -0.38786327,\n",
              "        -0.11063158,  3.70010668, -0.19150966, -0.4022569 , -0.35666298,\n",
              "        -0.15891043, -0.56890373, -0.31019338, -0.181218  , -0.18642533,\n",
              "        -0.35666298, -0.21765422,  3.21481343, -1.74928557,  1.25461704,\n",
              "         0.10318466,  1.19422156, -0.42011029, -0.51893725,  1.30248101,\n",
              "         1.63872661],\n",
              "       [-0.35506564, -0.46571851, -0.16329932, -0.15742303, -0.56407607,\n",
              "        -0.27405899, -0.19770672,  3.52871184, -0.19276269, -0.44058784,\n",
              "        -0.18770754, -0.06361417, -0.3502495 , -1.11342676,  1.40195273,\n",
              "        -0.39622572,  1.03046843, -0.71329081, -0.20963246,  0.11268723,\n",
              "        -0.11268723,  0.958324  , -0.958324  , -2.63564399,  2.63564399,\n",
              "         0.61859723, -0.27311344, -0.5114508 , -0.29341011, -0.38786327,\n",
              "        -0.11063158, -0.27026248, -0.19150966,  2.48597351, -0.35666298,\n",
              "        -0.15891043, -0.56890373, -0.31019338, -0.181218  , -0.18642533,\n",
              "        -0.35666298, -0.21765422, -0.31106004,  0.57166195, -0.94348049,\n",
              "        -0.38757403, -0.92734933, -0.54045968, -0.17189116, -0.46885387,\n",
              "        -0.38941612],\n",
              "       [-0.35506564, -0.46571851, -0.16329932, -0.15742303,  1.77281052,\n",
              "        -0.27405899, -0.19770672, -0.28338953, -0.19276269, -0.44058784,\n",
              "        -0.18770754, -0.06361417, -0.3502495 , -1.11342676,  1.40195273,\n",
              "        -0.39622572, -0.97043245,  1.40195273, -0.20963246,  0.11268723,\n",
              "        -0.11268723, -1.04348843,  1.04348843,  0.37941391, -0.37941391,\n",
              "         0.61859723, -0.27311344, -0.5114508 , -0.29341011, -0.38786327,\n",
              "        -0.11063158, -0.27026248, -0.19150966,  2.48597351, -0.35666298,\n",
              "        -0.15891043, -0.56890373, -0.31019338, -0.181218  , -0.18642533,\n",
              "        -0.35666298, -0.21765422, -0.31106004,  0.57166195, -0.60531164,\n",
              "        -0.05392769,  0.13343612,  0.72893981, -0.51893725, -0.46885387,\n",
              "        -0.38941612],\n",
              "       [-0.35506564, -0.46571851, -0.16329932, -0.15742303, -0.56407607,\n",
              "        -0.27405899, -0.19770672, -0.28338953, -0.19276269,  2.26969495,\n",
              "        -0.18770754, -0.06361417, -0.3502495 , -1.11342676,  1.40195273,\n",
              "        -0.39622572,  1.03046843, -0.71329081, -0.20963246,  0.11268723,\n",
              "        -0.11268723, -1.04348843,  1.04348843,  0.37941391, -0.37941391,\n",
              "         0.61859723, -0.27311344, -0.5114508 , -0.29341011, -0.38786327,\n",
              "        -0.11063158, -0.27026248, -0.19150966, -0.4022569 , -0.35666298,\n",
              "        -0.15891043,  1.75776665, -0.31019338, -0.181218  , -0.18642533,\n",
              "        -0.35666298, -0.21765422, -0.31106004,  0.57166195, -1.0280227 ,\n",
              "        -0.46236183, -0.22015903,  0.39081534,  0.17515492, -0.46885387,\n",
              "        -0.38941612]])"
            ]
          },
          "metadata": {},
          "execution_count": 48
        }
      ]
    }
  ]
}